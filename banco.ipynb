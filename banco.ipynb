{
  "nbformat": 4,
  "nbformat_minor": 0,
  "metadata": {
    "colab": {
      "provenance": []
    },
    "kernelspec": {
      "name": "python3",
      "display_name": "Python 3"
    },
    "language_info": {
      "name": "python"
    }
  },
  "cells": [
    {
      "cell_type": "code",
      "execution_count": 16,
      "metadata": {
        "colab": {
          "base_uri": "https://localhost:8080/",
          "height": 530
        },
        "id": "1p5yBOOU4ZQH",
        "outputId": "f0797900-9571-4a39-a84b-7478badf51df"
      },
      "outputs": [
        {
          "output_type": "stream",
          "name": "stdout",
          "text": [
            "Qual operação deseja realizar?d\n",
            "Quanto deseja depositar? 10\n",
            "Qual operação deseja realizar?e\n",
            "Saldo: R$ 10.00\n",
            "[('Deposito', '08/09/2024 19:03:02', 1)]\n",
            "Qual operação deseja realizar?s\n",
            "Quanto deseja sacar? 10\n",
            "Qual operação deseja realizar?e\n",
            "Saldo: R$ 0.00\n",
            "[('Deposito', '08/09/2024 19:03:02', 1), ('Saque', '08/09/2024 19:03:20', 2)]\n"
          ]
        },
        {
          "output_type": "error",
          "ename": "KeyboardInterrupt",
          "evalue": "Interrupted by user",
          "traceback": [
            "\u001b[0;31m---------------------------------------------------------------------------\u001b[0m",
            "\u001b[0;31mKeyboardInterrupt\u001b[0m                         Traceback (most recent call last)",
            "\u001b[0;32m<ipython-input-16-3897123520e2>\u001b[0m in \u001b[0;36m<cell line: 79>\u001b[0;34m()\u001b[0m\n\u001b[1;32m     78\u001b[0m \u001b[0;34m\u001b[0m\u001b[0m\n\u001b[1;32m     79\u001b[0m \u001b[0;32mwhile\u001b[0m \u001b[0;32mTrue\u001b[0m\u001b[0;34m:\u001b[0m\u001b[0;34m\u001b[0m\u001b[0;34m\u001b[0m\u001b[0m\n\u001b[0;32m---> 80\u001b[0;31m   \u001b[0moperacao\u001b[0m \u001b[0;34m=\u001b[0m \u001b[0minput\u001b[0m\u001b[0;34m(\u001b[0m\u001b[0;34m'Qual operação deseja realizar?'\u001b[0m\u001b[0;34m)\u001b[0m\u001b[0;34m\u001b[0m\u001b[0;34m\u001b[0m\u001b[0m\n\u001b[0m\u001b[1;32m     81\u001b[0m   \u001b[0mmatch\u001b[0m \u001b[0moperacao\u001b[0m\u001b[0;34m.\u001b[0m\u001b[0mlower\u001b[0m\u001b[0;34m(\u001b[0m\u001b[0;34m)\u001b[0m\u001b[0;34m:\u001b[0m\u001b[0;34m\u001b[0m\u001b[0;34m\u001b[0m\u001b[0m\n\u001b[1;32m     82\u001b[0m     \u001b[0mcase\u001b[0m \u001b[0moperacao\u001b[0m \u001b[0;32mif\u001b[0m \u001b[0moperacao\u001b[0m \u001b[0;32min\u001b[0m \u001b[0;34m[\u001b[0m\u001b[0;34m'deposito'\u001b[0m\u001b[0;34m,\u001b[0m\u001b[0;34m'd'\u001b[0m\u001b[0;34m]\u001b[0m\u001b[0;34m:\u001b[0m\u001b[0;34m\u001b[0m\u001b[0;34m\u001b[0m\u001b[0m\n",
            "\u001b[0;32m/usr/local/lib/python3.10/dist-packages/ipykernel/kernelbase.py\u001b[0m in \u001b[0;36mraw_input\u001b[0;34m(self, prompt)\u001b[0m\n\u001b[1;32m    849\u001b[0m                 \u001b[0;34m\"raw_input was called, but this frontend does not support input requests.\"\u001b[0m\u001b[0;34m\u001b[0m\u001b[0;34m\u001b[0m\u001b[0m\n\u001b[1;32m    850\u001b[0m             )\n\u001b[0;32m--> 851\u001b[0;31m         return self._input_request(str(prompt),\n\u001b[0m\u001b[1;32m    852\u001b[0m             \u001b[0mself\u001b[0m\u001b[0;34m.\u001b[0m\u001b[0m_parent_ident\u001b[0m\u001b[0;34m,\u001b[0m\u001b[0;34m\u001b[0m\u001b[0;34m\u001b[0m\u001b[0m\n\u001b[1;32m    853\u001b[0m             \u001b[0mself\u001b[0m\u001b[0;34m.\u001b[0m\u001b[0m_parent_header\u001b[0m\u001b[0;34m,\u001b[0m\u001b[0;34m\u001b[0m\u001b[0;34m\u001b[0m\u001b[0m\n",
            "\u001b[0;32m/usr/local/lib/python3.10/dist-packages/ipykernel/kernelbase.py\u001b[0m in \u001b[0;36m_input_request\u001b[0;34m(self, prompt, ident, parent, password)\u001b[0m\n\u001b[1;32m    893\u001b[0m             \u001b[0;32mexcept\u001b[0m \u001b[0mKeyboardInterrupt\u001b[0m\u001b[0;34m:\u001b[0m\u001b[0;34m\u001b[0m\u001b[0;34m\u001b[0m\u001b[0m\n\u001b[1;32m    894\u001b[0m                 \u001b[0;31m# re-raise KeyboardInterrupt, to truncate traceback\u001b[0m\u001b[0;34m\u001b[0m\u001b[0;34m\u001b[0m\u001b[0m\n\u001b[0;32m--> 895\u001b[0;31m                 \u001b[0;32mraise\u001b[0m \u001b[0mKeyboardInterrupt\u001b[0m\u001b[0;34m(\u001b[0m\u001b[0;34m\"Interrupted by user\"\u001b[0m\u001b[0;34m)\u001b[0m \u001b[0;32mfrom\u001b[0m \u001b[0;32mNone\u001b[0m\u001b[0;34m\u001b[0m\u001b[0;34m\u001b[0m\u001b[0m\n\u001b[0m\u001b[1;32m    896\u001b[0m             \u001b[0;32mexcept\u001b[0m \u001b[0mException\u001b[0m \u001b[0;32mas\u001b[0m \u001b[0me\u001b[0m\u001b[0;34m:\u001b[0m\u001b[0;34m\u001b[0m\u001b[0;34m\u001b[0m\u001b[0m\n\u001b[1;32m    897\u001b[0m                 \u001b[0mself\u001b[0m\u001b[0;34m.\u001b[0m\u001b[0mlog\u001b[0m\u001b[0;34m.\u001b[0m\u001b[0mwarning\u001b[0m\u001b[0;34m(\u001b[0m\u001b[0;34m\"Invalid Message:\"\u001b[0m\u001b[0;34m,\u001b[0m \u001b[0mexc_info\u001b[0m\u001b[0;34m=\u001b[0m\u001b[0;32mTrue\u001b[0m\u001b[0;34m)\u001b[0m\u001b[0;34m\u001b[0m\u001b[0;34m\u001b[0m\u001b[0m\n",
            "\u001b[0;31mKeyboardInterrupt\u001b[0m: Interrupted by user"
          ]
        }
      ],
      "source": [
        "from datetime import datetime\n",
        "\n",
        "saldo = 0\n",
        "num_saques = 0\n",
        "num_transacoes = 0\n",
        "LIMITE_VALOR_SAQUE = 500\n",
        "LIMITE_NUM_SAQUES = 3\n",
        "LIMITE_TRANSACOES = 10\n",
        "transaction_list = []\n",
        "\n",
        "def register_transaction(transaction_type):\n",
        "  global num_transacoes\n",
        "  string_date = datetime.now()\n",
        "  string_date = string_date.strftime(\"%d/%m/%Y %H:%M:%S\")\n",
        "  transaction_list.append((transaction_type, string_date, num_transacoes+1))\n",
        "  return\n",
        "\n",
        "def manage_daily_limit():\n",
        "  global num_transacoes\n",
        "  global date_first_transaction\n",
        "\n",
        "  now = datetime.now()\n",
        "  if num_transacoes == 0:\n",
        "    date_first_transaction = now\n",
        "  if now.date() > date_first_transaction.date():\n",
        "    num_transacoes = 0\n",
        "  return\n",
        "\n",
        "def operacao_depositar():\n",
        "  global saldo\n",
        "  global num_transacoes\n",
        "\n",
        "  manage_daily_limit()\n",
        "  if num_transacoes >= LIMITE_TRANSACOES:\n",
        "    print('Limite de transações diárias atingido')\n",
        "    return\n",
        "  valor = float(input('Quanto deseja depositar? '))\n",
        "  if valor < 0:\n",
        "      print('Depositos devem ser positivos')\n",
        "      return\n",
        "  saldo = saldo + valor\n",
        "  register_transaction(\"Deposito\")\n",
        "  num_transacoes = num_transacoes + 1\n",
        "  return\n",
        "\n",
        "def operacao_sacar():\n",
        "    global num_saques\n",
        "    global saldo\n",
        "    global num_transacoes\n",
        "\n",
        "    manage_daily_limit()\n",
        "    if num_transacoes >= LIMITE_TRANSACOES:\n",
        "      print('Limite de transações diárias atingido')\n",
        "      return\n",
        "    if num_saques >= LIMITE_NUM_SAQUES:\n",
        "      print('Limite de saques atingido')\n",
        "      return\n",
        "    valor = float(input('Quanto deseja sacar? '))\n",
        "    if valor > LIMITE_VALOR_SAQUE:\n",
        "      print('Limite de saque excedido')\n",
        "      return\n",
        "    if valor > saldo:\n",
        "      print('Saldo insuficiente')\n",
        "      return\n",
        "    if valor < 0:\n",
        "      print('Saques devem ser positivos')\n",
        "      return\n",
        "    saldo = saldo - valor\n",
        "    register_transaction(\"Saque\")\n",
        "    num_saques = num_saques + 1\n",
        "    num_transacoes = num_transacoes + 1\n",
        "    return\n",
        "\n",
        "def operacao_extrato():\n",
        "    print(f'Saldo: R$ {saldo:.2f}')\n",
        "    print(transaction_list)\n",
        "    return\n",
        "\n",
        "while True:\n",
        "  operacao = input('Qual operação deseja realizar?')\n",
        "  match operacao.lower():\n",
        "    case operacao if operacao in ['deposito','d']:\n",
        "      operacao_depositar()\n",
        "    case operacao if operacao in ['saque','s']:\n",
        "      operacao_sacar()\n",
        "    case operacao if operacao in ['extrato','e']:\n",
        "      operacao_extrato()\n",
        "    case operacao if operacao in ['sair','q']:\n",
        "      print('Saindo do sistema...')\n",
        "    case _:\n",
        "      print('Operação inválida. Tente novamente')\n",
        "\n"
      ]
    },
    {
      "cell_type": "code",
      "source": [],
      "metadata": {
        "id": "4HDgxKO1hHfD"
      },
      "execution_count": null,
      "outputs": []
    },
    {
      "cell_type": "code",
      "source": [],
      "metadata": {
        "id": "v8E8a5B_94DY"
      },
      "execution_count": null,
      "outputs": []
    }
  ]
}